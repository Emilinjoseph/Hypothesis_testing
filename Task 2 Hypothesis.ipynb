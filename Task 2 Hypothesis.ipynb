{
 "cells": [
  {
   "cell_type": "markdown",
   "id": "b8bdd1cc",
   "metadata": {
    "cell_type": "raw",
    "metadata": {},
    "source": [
     "<style>\n",
     "    .rendered_html { background-color: #F0F0F0; color: #000000 }\n",
     "</style>"
    ]
   },
   "source": [
    "# 1.Question"
   ]
  },
  {
   "cell_type": "markdown",
   "id": "cd81240b",
   "metadata": {},
   "source": [
    "1.Suppose a child psychologist says that the average time that working mothers spend talking to their children is at-least 11 minutes per day. You want to test\n",
    "You conduct a random sample of 1000 working mothers and find they spend an average of 11.5 minutes per day talking with their children. Assume prior research suggests the population standard deviation is 2.3 minutes.\n",
    "Conduct test with a level of significance of alpha=0.05\n"
   ]
  },
  {
   "cell_type": "markdown",
   "id": "810497e8",
   "metadata": {},
   "source": [
    "## Defining Null and alternate hypotheses"
   ]
  },
  {
   "cell_type": "markdown",
   "id": "d9dc39ab",
   "metadata": {},
   "source": [
    "Null hypothesis => The average time that working mothers spend talking to their children is at-least 11 minutes per day.\n",
    "Alternate hypothesis => The average time that working mothers spend talking to their children is less than 11 minutes per day."
   ]
  },
  {
   "cell_type": "markdown",
   "id": "40c4d47a",
   "metadata": {},
   "source": [
    "## Choose Significance Level"
   ]
  },
  {
   "cell_type": "markdown",
   "id": "569f0776",
   "metadata": {},
   "source": [
    "Its already given that level of significance of alpha=0.05"
   ]
  },
  {
   "cell_type": "markdown",
   "id": "dbf9a923",
   "metadata": {},
   "source": [
    "## Identifying a statistical test"
   ]
  },
  {
   "cell_type": "markdown",
   "id": "5977001a",
   "metadata": {},
   "source": [
    "From the given details we know the datasize is high and Standard deviation is also given. So here we can use z test."
   ]
  },
  {
   "cell_type": "markdown",
   "id": "449b9d72",
   "metadata": {},
   "source": [
    "## Calculating the test statistic"
   ]
  },
  {
   "cell_type": "code",
   "execution_count": 5,
   "id": "23401e4b",
   "metadata": {},
   "outputs": [
    {
     "data": {
      "text/plain": [
       "0.2173913043478261"
      ]
     },
     "execution_count": 5,
     "metadata": {},
     "output_type": "execute_result"
    }
   ],
   "source": [
    "z=(11.5-11)/2.3  # z=(mean[we got]-mean[we are assuming])/std\n",
    "z"
   ]
  },
  {
   "cell_type": "markdown",
   "id": "346c2684",
   "metadata": {},
   "source": [
    "## Comparing it with the level of significance"
   ]
  },
  {
   "cell_type": "markdown",
   "id": "0c20045d",
   "metadata": {},
   "source": [
    "Here our alternative hypothesis contains the less sign , so we have to do Left-tailed test. In this we have to compare the test statistic value and critical value. From the z table we got the critical value as -1.645.So we can already see that our test statistic(0.22) is greater than our critical value(-1.64), hence we can accept the null hypothesis. \n",
    "\n"
   ]
  },
  {
   "cell_type": "markdown",
   "id": "93feab62",
   "metadata": {},
   "source": [
    "## Concluding — rejecting or not rejecting your null hypothesis"
   ]
  },
  {
   "cell_type": "markdown",
   "id": "2e57038d",
   "metadata": {},
   "source": [
    "Now we can conclude with this result our null hypothesis is acceptable. That means there is enough evidence to support the claim that \" The average time that working mothers spend talking to their children is at-least 11 minutes per day\"."
   ]
  },
  {
   "cell_type": "markdown",
   "id": "dab4a2fa",
   "metadata": {},
   "source": [
    "# 2.Question"
   ]
  },
  {
   "cell_type": "markdown",
   "id": "79e302ad",
   "metadata": {},
   "source": [
    "2.A coffee shop claims that their average wait time for customers is less than 5 minutes. To test this claim, a sample of 40 customers is taken, and their wait times are recorded. The sample mean wait time is found to be 4.6 minutes with a standard deviation of 0.8 minutes. Perform a hypothesis test at a significance level of 0.05 and determine whether there is enough evidence to support the coffee shop's claim.\n",
    "Perform the hypothesis testing using correct test statistics and appropriate critical value"
   ]
  },
  {
   "cell_type": "markdown",
   "id": "404fa052",
   "metadata": {},
   "source": [
    "## Null and Alternate Hypothesis"
   ]
  },
  {
   "cell_type": "markdown",
   "id": "c1fa28e0",
   "metadata": {},
   "source": [
    "Null hypothesis => The average wait time for customers is less than 5 minutes.\n",
    "Alternate hypothesis => The average wait time for customers is greater than 5 minutes."
   ]
  },
  {
   "cell_type": "markdown",
   "id": "0c208ef6",
   "metadata": {},
   "source": [
    "## Choose Significance Level"
   ]
  },
  {
   "cell_type": "markdown",
   "id": "2473a616",
   "metadata": {},
   "source": [
    "Its already given that level of significance of alpha=0.05"
   ]
  },
  {
   "cell_type": "markdown",
   "id": "7ae806c2",
   "metadata": {},
   "source": [
    "## Identifying a statistical test"
   ]
  },
  {
   "cell_type": "markdown",
   "id": "e3dc3ae4",
   "metadata": {},
   "source": [
    "From the given details we know the sample size is small(40) and the population standard deviation is not known. So here we can use t test."
   ]
  },
  {
   "cell_type": "markdown",
   "id": "5ba9d04f",
   "metadata": {},
   "source": [
    "## Calculating the test statistic"
   ]
  },
  {
   "cell_type": "code",
   "execution_count": 6,
   "id": "625bdbbc",
   "metadata": {},
   "outputs": [
    {
     "data": {
      "text/plain": [
       "-3.162277660168382"
      ]
     },
     "execution_count": 6,
     "metadata": {},
     "output_type": "execute_result"
    }
   ],
   "source": [
    "t=(4.6-5)/(0.8/(40**0.5))\n",
    "t"
   ]
  },
  {
   "cell_type": "markdown",
   "id": "d0c88018",
   "metadata": {},
   "source": [
    "## Comparing it with the level of significance"
   ]
  },
  {
   "cell_type": "markdown",
   "id": "764a2844",
   "metadata": {},
   "source": [
    "critical value is  1.6849(right-tailed test).\n",
    "Test statistic is less than critical value so our null hypothesis is in the acceptence region."
   ]
  },
  {
   "cell_type": "markdown",
   "id": "bb71471a",
   "metadata": {},
   "source": [
    "## Concluding"
   ]
  },
  {
   "cell_type": "markdown",
   "id": "671730fd",
   "metadata": {},
   "source": [
    "Now there is enough evidence to support the claim that \"The average wait time for customers is less than 5 minutes\" ."
   ]
  }
 ],
 "metadata": {
  "kernelspec": {
   "display_name": "Python 3 (ipykernel)",
   "language": "python",
   "name": "python3"
  },
  "language_info": {
   "codemirror_mode": {
    "name": "ipython",
    "version": 3
   },
   "file_extension": ".py",
   "mimetype": "text/x-python",
   "name": "python",
   "nbconvert_exporter": "python",
   "pygments_lexer": "ipython3",
   "version": "3.11.2"
  }
 },
 "nbformat": 4,
 "nbformat_minor": 5
}
